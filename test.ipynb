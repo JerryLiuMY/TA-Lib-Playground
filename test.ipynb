{
 "cells": [
  {
   "cell_type": "code",
   "execution_count": 184,
   "metadata": {},
   "outputs": [
    {
     "name": "stdout",
     "output_type": "stream",
     "text": [
      "Help on function CDLUPSIDEGAP2CROWS in module talib._ta_lib:\n",
      "\n",
      "CDLUPSIDEGAP2CROWS(...)\n",
      "    CDLUPSIDEGAP2CROWS(open, high, low, close)\n",
      "    \n",
      "    Upside Gap Two Crows (Pattern Recognition)\n",
      "    \n",
      "    Inputs:\n",
      "        prices: ['open', 'high', 'low', 'close']\n",
      "    Outputs:\n",
      "        integer (values are -100, 0 or 100)\n",
      "\n"
     ]
    }
   ],
   "source": [
    "import talib\n",
    "help(talib.CDLUPSIDEGAP2CROWS)"
   ]
  },
  {
   "cell_type": "code",
   "execution_count": 186,
   "metadata": {},
   "outputs": [
    {
     "name": "stdout",
     "output_type": "stream",
     "text": [
      "Help on function CDLXSIDEGAP3METHODS in module talib._ta_lib:\n",
      "\n",
      "CDLXSIDEGAP3METHODS(...)\n",
      "    CDLXSIDEGAP3METHODS(open, high, low, close)\n",
      "    \n",
      "    Upside/Downside Gap Three Methods (Pattern Recognition)\n",
      "    \n",
      "    Inputs:\n",
      "        prices: ['open', 'high', 'low', 'close']\n",
      "    Outputs:\n",
      "        integer (values are -100, 0 or 100)\n",
      "\n"
     ]
    }
   ],
   "source": [
    "from numpy.random import random\n",
    "help(talib.CDLXSIDEGAP3METHODS)"
   ]
  },
  {
   "cell_type": "code",
   "execution_count": null,
   "metadata": {},
   "outputs": [],
   "source": [
    "# functionalities\n",
    "# demo and readme.md \n",
    "# equivalent libraries "
   ]
  }
 ],
 "metadata": {
  "kernelspec": {
   "display_name": "Python 3",
   "language": "python",
   "name": "python3"
  },
  "language_info": {
   "codemirror_mode": {
    "name": "ipython",
    "version": 3
   },
   "file_extension": ".py",
   "mimetype": "text/x-python",
   "name": "python",
   "nbconvert_exporter": "python",
   "pygments_lexer": "ipython3",
   "version": "3.7.3"
  }
 },
 "nbformat": 4,
 "nbformat_minor": 4
}
