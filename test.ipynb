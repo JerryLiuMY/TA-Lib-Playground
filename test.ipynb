{
 "cells": [
  {
   "cell_type": "code",
   "execution_count": 39,
   "metadata": {},
   "outputs": [
    {
     "name": "stdout",
     "output_type": "stream",
     "text": [
      "Help on function SAREXT in module talib._ta_lib:\n",
      "\n",
      "SAREXT(...)\n",
      "    SAREXT(high, low[, startvalue=?, offsetonreverse=?, accelerationinitlong=?, accelerationlong=?, accelerationmaxlong=?, accelerationinitshort=?, accelerationshort=?, accelerationmaxshort=?])\n",
      "    \n",
      "    Parabolic SAR - Extended (Overlap Studies)\n",
      "    \n",
      "    Inputs:\n",
      "        prices: ['high', 'low']\n",
      "    Parameters:\n",
      "        startvalue: 0\n",
      "        offsetonreverse: 0\n",
      "        accelerationinitlong: 0.02\n",
      "        accelerationlong: 0.02\n",
      "        accelerationmaxlong: 0.2\n",
      "        accelerationinitshort: 0.02\n",
      "        accelerationshort: 0.02\n",
      "        accelerationmaxshort: 0.2\n",
      "    Outputs:\n",
      "        real\n",
      "\n"
     ]
    }
   ],
   "source": [
    "help(talib.SAREXT)"
   ]
  },
  {
   "cell_type": "code",
   "execution_count": 35,
   "metadata": {},
   "outputs": [
    {
     "data": {
      "text/plain": [
       "array([       nan, 0.38013001, 0.59706603, 0.64680097, 0.78235784,\n",
       "       0.95197207, 0.6429658 , 0.53495191, 0.63875082, 0.61764245,\n",
       "       0.63029827, 0.67092382, 0.74288362, 0.63256528, 0.55915999,\n",
       "       0.48880071, 0.62619108, 0.72629986, 0.73756535, 0.61886357,\n",
       "       0.39434694, 0.69097585, 0.77622885, 0.65867524, 0.64920034,\n",
       "       0.45849677, 0.65239698, 0.69256535, 0.58024395, 0.68279264,\n",
       "       0.57629658, 0.59973085, 0.58991876, 0.68450235, 0.81626841,\n",
       "       0.76011531, 0.84456155, 0.76017374, 0.72212671, 0.7715773 ,\n",
       "       0.66330641, 0.53871558, 0.31977645, 0.5695442 , 0.9564434 ,\n",
       "       0.85290724, 0.42069082, 0.13295389, 0.12126522, 0.34127653,\n",
       "       0.56376729, 0.30802543, 0.45559095, 0.79393533, 0.37700794,\n",
       "       0.3257311 , 0.4930943 , 0.35594629, 0.62720301, 0.70797407,\n",
       "       0.32685462, 0.42843427, 0.58863739, 0.63186612, 0.72446963,\n",
       "       0.54555621, 0.52141587, 0.5155107 , 0.3293902 , 0.14301841,\n",
       "       0.14272174, 0.15231081, 0.48010004, 0.50470951, 0.25465957,\n",
       "       0.30107289, 0.12170494, 0.20094656, 0.50544686, 0.38609132,\n",
       "       0.3236392 , 0.25202298, 0.03198146, 0.47632163, 0.70505057,\n",
       "       0.64107964, 0.73185389, 0.7372137 , 0.49129111, 0.36950667,\n",
       "       0.27955096, 0.04548489, 0.45787147, 0.8689971 , 0.70214556,\n",
       "       0.6486106 , 0.67252088, 0.53360722, 0.72405763, 0.48898074])"
      ]
     },
     "execution_count": 35,
     "metadata": {},
     "output_type": "execute_result"
    }
   ],
   "source": [
    "talib.MIDPOINT(np.random.random(100), 2)"
   ]
  }
 ],
 "metadata": {
  "kernelspec": {
   "display_name": "Python 3",
   "language": "python",
   "name": "python3"
  },
  "language_info": {
   "codemirror_mode": {
    "name": "ipython",
    "version": 3
   },
   "file_extension": ".py",
   "mimetype": "text/x-python",
   "name": "python",
   "nbconvert_exporter": "python",
   "pygments_lexer": "ipython3",
   "version": "3.7.3"
  }
 },
 "nbformat": 4,
 "nbformat_minor": 4
}
