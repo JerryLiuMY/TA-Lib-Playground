{
 "cells": [
  {
   "cell_type": "code",
   "execution_count": 78,
   "metadata": {},
   "outputs": [
    {
     "name": "stdout",
     "output_type": "stream",
     "text": [
      "Help on function ATR in module talib._ta_lib:\n",
      "\n",
      "ATR(...)\n",
      "    ATR(high, low, close[, timeperiod=?])\n",
      "    \n",
      "    Average True Range (Volatility Indicators)\n",
      "    \n",
      "    Inputs:\n",
      "        prices: ['high', 'low', 'close']\n",
      "    Parameters:\n",
      "        timeperiod: 14\n",
      "    Outputs:\n",
      "        real\n",
      "\n"
     ]
    }
   ],
   "source": [
    "help(talib.ATR)"
   ]
  },
  {
   "cell_type": "code",
   "execution_count": null,
   "metadata": {},
   "outputs": [],
   "source": []
  }
 ],
 "metadata": {
  "kernelspec": {
   "display_name": "Python 3",
   "language": "python",
   "name": "python3"
  },
  "language_info": {
   "codemirror_mode": {
    "name": "ipython",
    "version": 3
   },
   "file_extension": ".py",
   "mimetype": "text/x-python",
   "name": "python",
   "nbconvert_exporter": "python",
   "pygments_lexer": "ipython3",
   "version": "3.7.3"
  }
 },
 "nbformat": 4,
 "nbformat_minor": 4
}
